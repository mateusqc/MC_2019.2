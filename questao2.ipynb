{
 "cells": [
  {
   "cell_type": "code",
   "execution_count": null,
   "metadata": {},
   "outputs": [],
   "source": [
    "# Biblioteca científica\n",
    "import numpy as np\n",
    "# Biblioteca para análise de dados\n",
    "import pandas as pd\n",
    "# Suprimindo os warnings da biblioteca pandas\n",
    "pd.options.mode.chained_assignment = None\n",
    "# Bibliotecas de visualização de dados\n",
    "import matplotlib.pyplot as plt\n",
    "import matplotlib.patches as mpatches\n",
    "import matplotlib.ticker as mtick\n",
    "plt.style.use('ggplot')\n",
    "import seaborn as sns\n",
    "sns.set_style('whitegrid')\n",
    "%matplotlib inline"
   ]
  },
  {
   "cell_type": "code",
   "execution_count": null,
   "metadata": {},
   "outputs": [],
   "source": [
    "# Carregando os dados\n",
    "dados = pd.read_csv('ENADE2017/dados/microdados_ENADE_2017.csv', sep=';')"
   ]
  },
  {
   "cell_type": "code",
   "execution_count": null,
   "metadata": {},
   "outputs": [],
   "source": [
    "dados = dados.filter(['NT_GER', 'QE_I08'])\n",
    "dados"
   ]
  },
  {
   "cell_type": "code",
   "execution_count": null,
   "metadata": {},
   "outputs": [],
   "source": [
    "dados['NT_GER'].replace(regex=True, inplace=True, to_replace=r'\\,\\\\?', value=r'.')"
   ]
  },
  {
   "cell_type": "code",
   "execution_count": null,
   "metadata": {},
   "outputs": [],
   "source": [
    "dados_filtrados = dados[dados['NT_GER'].notnull()]\n",
    "dados_filtrados = dados_filtrados[dados_filtrados['QE_I08'].notnull()]\n",
    "dados_filtrados = dados_filtrados.rename(columns={\"NT_GER\": \"nota_enade\", \"QE_I08\": \"renda\"}, errors=\"raise\")\n",
    "dados_filtrados"
   ]
  },
  {
   "cell_type": "code",
   "execution_count": null,
   "metadata": {},
   "outputs": [],
   "source": [
    "dados_filtrados['renda'] = dados_filtrados['renda'].replace('A', 0)\n",
    "dados_filtrados['renda'] = dados_filtrados['renda'].replace('B', 1)\n",
    "dados_filtrados['renda'] = dados_filtrados['renda'].replace('C', 2)\n",
    "dados_filtrados['renda'] = dados_filtrados['renda'].replace('D', 3)\n",
    "dados_filtrados['renda'] = dados_filtrados['renda'].replace('E', 4)\n",
    "dados_filtrados['renda'] = dados_filtrados['renda'].replace('F', 5)\n",
    "dados_filtrados['renda'] = dados_filtrados['renda'].replace('G', 6)\n",
    "dados_filtrados"
   ]
  },
  {
   "cell_type": "code",
   "execution_count": null,
   "metadata": {},
   "outputs": [],
   "source": [
    "# sns.pairplot(dados_filtrados, diag_kind='kde')\n",
    "# plt.show()"
   ]
  },
  {
   "cell_type": "code",
   "execution_count": null,
   "metadata": {},
   "outputs": [],
   "source": [
    "# fig, gph = plt.subplots(figsize=(7,5))\n",
    "\n",
    "# gph = sns.stripplot(x='renda', y='nota_enade', data=dados_filtrados.sort_values(by='renda', ascending=True), s=8, lw=1)\n",
    "\n",
    "# gph.set_title('Custo por aluno das Universidades Federais do Brasil \\n em 2016 x Conceito médio do Enade por instituição', fontsize=20)\n",
    "\n",
    "# gph.set_xlabel('Conceito médio do Enade', fontsize=15)\n",
    "\n",
    "# gph.set_ylabel('Custo por aluno (reais)', fontsize=15)\n",
    "\n",
    "# plt.show()"
   ]
  },
  {
   "cell_type": "code",
   "execution_count": null,
   "metadata": {},
   "outputs": [],
   "source": [
    "# Importando a biblioteca necessária\n",
    "from scipy.stats import pearsonr, spearmanr, kendalltau"
   ]
  },
  {
   "cell_type": "code",
   "execution_count": null,
   "metadata": {},
   "outputs": [],
   "source": [
    "# Calculando a correlação de pearson\n",
    "x = dados_filtrados.renda\n",
    "y = dados_filtrados.nota_enade\n",
    "coef, p = pearsonr(x,y)\n",
    "print('Correlação de pearson: %.2f' % coef)"
   ]
  },
  {
   "cell_type": "code",
   "execution_count": null,
   "metadata": {},
   "outputs": [],
   "source": []
  }
 ],
 "metadata": {
  "kernelspec": {
   "display_name": "Python 3",
   "language": "python",
   "name": "python3"
  },
  "language_info": {
   "codemirror_mode": {
    "name": "ipython",
    "version": 3
   },
   "file_extension": ".py",
   "mimetype": "text/x-python",
   "name": "python",
   "nbconvert_exporter": "python",
   "pygments_lexer": "ipython3",
   "version": "3.7.3"
  }
 },
 "nbformat": 4,
 "nbformat_minor": 2
}
